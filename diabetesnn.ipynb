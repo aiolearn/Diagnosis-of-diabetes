{
  "cells": [
    {
      "cell_type": "markdown",
      "metadata": {},
      "source": [
        "## J9"
      ]
    },
    {
      "cell_type": "markdown",
      "metadata": {},
      "source": [
        "### Documentation"
      ]
    },
    {
      "cell_type": "code",
      "execution_count": 103,
      "metadata": {},
      "outputs": [],
      "source": [
        "Documentation = \"\"\"\n",
        "این کد یک تحلیل داده و ایجاد مدل برای تشخیص دیابت با استفاده از داده‌های مربوط به بیماران دیابت را انجام می‌دهد. توضیحات خط به خط:\n",
        "This code performs data analysis and builds a model for diabetes detection using data related to diabetic patients. Below is a line-by-line explanation of the code:\n",
        "\n",
        "وارد کردن کتابخانه‌های مورد نیاز از جمله NumPy برای عملیات عددی، Pandas برای کار با داده‌ها، و Matplotlib و Seaborn برای تصویرسازی.\n",
        "Importing necessary libraries, including NumPy for numerical operations, Pandas for data handling, and Matplotlib and Seaborn for visualization.\n",
        "\n",
        "خواندن داده‌ها از یک فایل CSV حاوی اطلاعات دیابت.\n",
        "Reading data from a CSV file containing diabetes information.\n",
        "\n",
        "نمایش پنج سطر اول از داده‌ها.\n",
        "Displaying the first five rows of the data.\n",
        "\n",
        "انجام توصیف آماری بر روی داده‌ها.\n",
        "Performing statistical description on the data.\n",
        "\n",
        "نمایش تعداد نتایج برای هر مقدار 0 و 1 با استفاده از نمودار نوع شمارش (Countplot).\n",
        "Displaying the count of outcomes for each value of 0 and 1 using a Countplot.\n",
        "\n",
        "نمایش نقشه حرارتی از همبستگی داده‌ها.\n",
        "Displaying a heatmap of the data correlations.\n",
        "\n",
        "تقسیم داده‌ها به ویژگی‌ها (X) و برچسب‌ها (y).\n",
        "Splitting the data into features (X) and labels (y).\n",
        "\n",
        "تقسیم داده‌ها به داده‌های آموزشی و تست با استفاده از train_test_split از scikit-learn.\n",
        "Splitting the data into training and testing sets using train_test_split from scikit-learn.\n",
        "\n",
        "وارد کردن و آموزش یک مدل لجستیک رگرسیون.\n",
        "Importing and training a logistic regression model.\n",
        "\n",
        "ایجاد یک مدل شبکه عصبی با سه لایه و آموزش آن.\n",
        "Creating a neural network model with three layers and training it.\n",
        "\n",
        "ارزیابی دقت مدل‌ها بر روی داده‌های آموزشی و تست.\n",
        "Evaluating the accuracy of the models on training and testing data.\n",
        "\n",
        "پیش‌بینی برچسب‌ها برای داده‌های تست و محاسبه تعداد پیش‌بینی‌های صحیح و غلط.\n",
        "Predicting labels for test data and calculating the number of true and false predictions.\n",
        "\n",
        "محاسبه درصد دقت.\n",
        "Calculating the accuracy percentage.\n",
        "\n",
        "نمایش خلاصه مدل شبکه عصبی.\n",
        "Displaying a summary of the neural network model.\n",
        "\n",
        "پیش‌بینی برچسب برای یک نمونه جدید.\n",
        "Predicting the label for a new sample.\n",
        "\n",
        "ذخیره و بازخوانی وزن‌ها و معماری مدل.\n",
        "Saving and loading model weights and architecture.\n",
        "\"\"\""
      ]
    },
    {
      "cell_type": "markdown",
      "metadata": {},
      "source": [
        "### Installation"
      ]
    },
    {
      "cell_type": "code",
      "execution_count": 104,
      "metadata": {},
      "outputs": [],
      "source": [
        "Installation = \"\"\"\n",
        "برای نصب لایبرری های مورد نیاز، از دستور زیر داخل ترمینال استفاده کنید:\n",
        "    \n",
        "    `pip install numpy pandas matplotlib seaborn scikit-learn tensorflow`\n",
        "\"\"\""
      ]
    },
    {
      "cell_type": "markdown",
      "metadata": {},
      "source": [
        "### Possible issues & Solutions"
      ]
    },
    {
      "cell_type": "code",
      "execution_count": 105,
      "metadata": {},
      "outputs": [],
      "source": [
        "Issues = \"\"\"\n",
        "Possible Issues:\n",
        "    کتابخانه‌های نصب نشده: ممکن است کتابخانه‌های مورد نیاز نصب نشده باشند. در این صورت، ممکن است برنامه با خطا مواجه شود.\n",
        "    Missing Libraries: The required libraries may not be installed. In this case, the program may encounter errors.\n",
        "\n",
        "    فایل داده موجود نیست: اگر فایل diabetes.csv در مسیر مشخص شده وجود نداشته باشد، خواندن داده‌ها با مشکل مواجه می‌شود.\n",
        "    Missing Data File: If the diabetes.csv file is not present in the specified path, reading the data can fail.\n",
        "\n",
        "    مشکل در وابستگی به کتابخانه: اگر کتابخانه‌هایی که برنامه به آن‌ها وابسته است، به درستی نصب نشده باشند، ممکن است برنامه با خطا مواجه شود.\n",
        "    Dependency Issues: If the dependent libraries are not properly installed, the program may encounter errors.\n",
        "\n",
        "    مسیر غلط فایل‌های ذخیره شده: در صورتی که مسیر فایل‌هایی مانند \"model.h5\" یا \"model_architecture.json\" صحیح نباشد، ممکن است خطاها رخ دهد.\n",
        "    Incorrect Path for Saved Files: If the paths for files such as \"model.h5\" or \"model_architecture.json\" are incorrect, errors may occur.\n",
        "\"\"\""
      ]
    },
    {
      "cell_type": "code",
      "execution_count": 106,
      "metadata": {},
      "outputs": [],
      "source": [
        "Solutions = \"\"\"\n",
        "Solutions:\n",
        "نصب کتابخانه‌ها:\n",
        "    از دستور pip install numpy pandas matplotlib seaborn scikit-learn tensorflow برای نصب کتابخانه‌های مورد نیاز استفاده کنید.\n",
        "    Use the command pip install numpy pandas matplotlib seaborn scikit-learn tensorflow to install the required libraries.\n",
        "\n",
        "\n",
        "بررسی وجود فایل داده:\n",
        "    اطمینان حاصل کنید که فایل diabetes.csv در مسیر صحیح وجود دارد.\n",
        "    Make sure that the file diabetes.csv exists in the correct path.\n",
        "\n",
        "\n",
        "بررسی وابستگی‌ها:\n",
        "    اطمینان حاصل کنید که تمامی کتابخانه‌ها با نسخه‌های مناسب نصب شده‌اند.\n",
        "    Ensure that all libraries are installed with the appropriate versions.\n",
        "\n",
        "\n",
        "مسیر صحیح برای فایل‌های ذخیره شده:\n",
        "    مسیرهایی که برای ذخیره و بازخوانی مدل و فایل‌های مرتبط استفاده شده‌اند را بررسی کنید.\n",
        "    Check the paths used for saving and loading the model and associated files.\n",
        "\"\"\""
      ]
    },
    {
      "cell_type": "markdown",
      "metadata": {},
      "source": [
        "### Code"
      ]
    },
    {
      "cell_type": "code",
      "execution_count": 107,
      "metadata": {},
      "outputs": [],
      "source": [
        "import math\n",
        "import numpy as np\n",
        "import pandas as pd  \n",
        "import seaborn as sns\n",
        "import matplotlib.pyplot as plt\n",
        "from tensorflow.keras.layers import Dense\n",
        "from tensorflow.keras.models import Sequential"
      ]
    },
    {
      "cell_type": "code",
      "execution_count": 108,
      "metadata": {},
      "outputs": [],
      "source": [
        "df = pd.read_csv('diabetes.csv')"
      ]
    },
    {
      "cell_type": "code",
      "execution_count": 109,
      "metadata": {},
      "outputs": [
        {
          "data": {
            "text/html": [
              "<div>\n",
              "<style scoped>\n",
              "    .dataframe tbody tr th:only-of-type {\n",
              "        vertical-align: middle;\n",
              "    }\n",
              "\n",
              "    .dataframe tbody tr th {\n",
              "        vertical-align: top;\n",
              "    }\n",
              "\n",
              "    .dataframe thead th {\n",
              "        text-align: right;\n",
              "    }\n",
              "</style>\n",
              "<table border=\"1\" class=\"dataframe\">\n",
              "  <thead>\n",
              "    <tr style=\"text-align: right;\">\n",
              "      <th></th>\n",
              "      <th>Pregnancies</th>\n",
              "      <th>Glucose</th>\n",
              "      <th>BloodPressure</th>\n",
              "      <th>SkinThickness</th>\n",
              "      <th>Insulin</th>\n",
              "      <th>BMI</th>\n",
              "      <th>DiabetesPedigreeFunction</th>\n",
              "      <th>Age</th>\n",
              "      <th>Outcome</th>\n",
              "    </tr>\n",
              "  </thead>\n",
              "  <tbody>\n",
              "    <tr>\n",
              "      <th>0</th>\n",
              "      <td>6</td>\n",
              "      <td>148</td>\n",
              "      <td>72</td>\n",
              "      <td>35</td>\n",
              "      <td>0</td>\n",
              "      <td>33.6</td>\n",
              "      <td>0.627</td>\n",
              "      <td>50</td>\n",
              "      <td>1</td>\n",
              "    </tr>\n",
              "    <tr>\n",
              "      <th>1</th>\n",
              "      <td>1</td>\n",
              "      <td>85</td>\n",
              "      <td>66</td>\n",
              "      <td>29</td>\n",
              "      <td>0</td>\n",
              "      <td>26.6</td>\n",
              "      <td>0.351</td>\n",
              "      <td>31</td>\n",
              "      <td>0</td>\n",
              "    </tr>\n",
              "    <tr>\n",
              "      <th>2</th>\n",
              "      <td>8</td>\n",
              "      <td>183</td>\n",
              "      <td>64</td>\n",
              "      <td>0</td>\n",
              "      <td>0</td>\n",
              "      <td>23.3</td>\n",
              "      <td>0.672</td>\n",
              "      <td>32</td>\n",
              "      <td>1</td>\n",
              "    </tr>\n",
              "    <tr>\n",
              "      <th>3</th>\n",
              "      <td>1</td>\n",
              "      <td>89</td>\n",
              "      <td>66</td>\n",
              "      <td>23</td>\n",
              "      <td>94</td>\n",
              "      <td>28.1</td>\n",
              "      <td>0.167</td>\n",
              "      <td>21</td>\n",
              "      <td>0</td>\n",
              "    </tr>\n",
              "    <tr>\n",
              "      <th>4</th>\n",
              "      <td>0</td>\n",
              "      <td>137</td>\n",
              "      <td>40</td>\n",
              "      <td>35</td>\n",
              "      <td>168</td>\n",
              "      <td>43.1</td>\n",
              "      <td>2.288</td>\n",
              "      <td>33</td>\n",
              "      <td>1</td>\n",
              "    </tr>\n",
              "  </tbody>\n",
              "</table>\n",
              "</div>"
            ],
            "text/plain": [
              "   Pregnancies  Glucose  BloodPressure  SkinThickness  Insulin   BMI  \\\n",
              "0            6      148             72             35        0  33.6   \n",
              "1            1       85             66             29        0  26.6   \n",
              "2            8      183             64              0        0  23.3   \n",
              "3            1       89             66             23       94  28.1   \n",
              "4            0      137             40             35      168  43.1   \n",
              "\n",
              "   DiabetesPedigreeFunction  Age  Outcome  \n",
              "0                     0.627   50        1  \n",
              "1                     0.351   31        0  \n",
              "2                     0.672   32        1  \n",
              "3                     0.167   21        0  \n",
              "4                     2.288   33        1  "
            ]
          },
          "execution_count": 109,
          "metadata": {},
          "output_type": "execute_result"
        }
      ],
      "source": [
        "df.head()"
      ]
    },
    {
      "cell_type": "code",
      "execution_count": 110,
      "metadata": {},
      "outputs": [
        {
          "data": {
            "text/html": [
              "<div>\n",
              "<style scoped>\n",
              "    .dataframe tbody tr th:only-of-type {\n",
              "        vertical-align: middle;\n",
              "    }\n",
              "\n",
              "    .dataframe tbody tr th {\n",
              "        vertical-align: top;\n",
              "    }\n",
              "\n",
              "    .dataframe thead th {\n",
              "        text-align: right;\n",
              "    }\n",
              "</style>\n",
              "<table border=\"1\" class=\"dataframe\">\n",
              "  <thead>\n",
              "    <tr style=\"text-align: right;\">\n",
              "      <th></th>\n",
              "      <th>Pregnancies</th>\n",
              "      <th>Glucose</th>\n",
              "      <th>BloodPressure</th>\n",
              "      <th>SkinThickness</th>\n",
              "      <th>Insulin</th>\n",
              "      <th>BMI</th>\n",
              "      <th>DiabetesPedigreeFunction</th>\n",
              "      <th>Age</th>\n",
              "      <th>Outcome</th>\n",
              "    </tr>\n",
              "  </thead>\n",
              "  <tbody>\n",
              "    <tr>\n",
              "      <th>count</th>\n",
              "      <td>768.000000</td>\n",
              "      <td>768.000000</td>\n",
              "      <td>768.000000</td>\n",
              "      <td>768.000000</td>\n",
              "      <td>768.000000</td>\n",
              "      <td>768.000000</td>\n",
              "      <td>768.000000</td>\n",
              "      <td>768.000000</td>\n",
              "      <td>768.000000</td>\n",
              "    </tr>\n",
              "    <tr>\n",
              "      <th>mean</th>\n",
              "      <td>3.845052</td>\n",
              "      <td>120.894531</td>\n",
              "      <td>69.105469</td>\n",
              "      <td>20.536458</td>\n",
              "      <td>79.799479</td>\n",
              "      <td>31.992578</td>\n",
              "      <td>0.471876</td>\n",
              "      <td>33.240885</td>\n",
              "      <td>0.348958</td>\n",
              "    </tr>\n",
              "    <tr>\n",
              "      <th>std</th>\n",
              "      <td>3.369578</td>\n",
              "      <td>31.972618</td>\n",
              "      <td>19.355807</td>\n",
              "      <td>15.952218</td>\n",
              "      <td>115.244002</td>\n",
              "      <td>7.884160</td>\n",
              "      <td>0.331329</td>\n",
              "      <td>11.760232</td>\n",
              "      <td>0.476951</td>\n",
              "    </tr>\n",
              "    <tr>\n",
              "      <th>min</th>\n",
              "      <td>0.000000</td>\n",
              "      <td>0.000000</td>\n",
              "      <td>0.000000</td>\n",
              "      <td>0.000000</td>\n",
              "      <td>0.000000</td>\n",
              "      <td>0.000000</td>\n",
              "      <td>0.078000</td>\n",
              "      <td>21.000000</td>\n",
              "      <td>0.000000</td>\n",
              "    </tr>\n",
              "    <tr>\n",
              "      <th>25%</th>\n",
              "      <td>1.000000</td>\n",
              "      <td>99.000000</td>\n",
              "      <td>62.000000</td>\n",
              "      <td>0.000000</td>\n",
              "      <td>0.000000</td>\n",
              "      <td>27.300000</td>\n",
              "      <td>0.243750</td>\n",
              "      <td>24.000000</td>\n",
              "      <td>0.000000</td>\n",
              "    </tr>\n",
              "    <tr>\n",
              "      <th>50%</th>\n",
              "      <td>3.000000</td>\n",
              "      <td>117.000000</td>\n",
              "      <td>72.000000</td>\n",
              "      <td>23.000000</td>\n",
              "      <td>30.500000</td>\n",
              "      <td>32.000000</td>\n",
              "      <td>0.372500</td>\n",
              "      <td>29.000000</td>\n",
              "      <td>0.000000</td>\n",
              "    </tr>\n",
              "    <tr>\n",
              "      <th>75%</th>\n",
              "      <td>6.000000</td>\n",
              "      <td>140.250000</td>\n",
              "      <td>80.000000</td>\n",
              "      <td>32.000000</td>\n",
              "      <td>127.250000</td>\n",
              "      <td>36.600000</td>\n",
              "      <td>0.626250</td>\n",
              "      <td>41.000000</td>\n",
              "      <td>1.000000</td>\n",
              "    </tr>\n",
              "    <tr>\n",
              "      <th>max</th>\n",
              "      <td>17.000000</td>\n",
              "      <td>199.000000</td>\n",
              "      <td>122.000000</td>\n",
              "      <td>99.000000</td>\n",
              "      <td>846.000000</td>\n",
              "      <td>67.100000</td>\n",
              "      <td>2.420000</td>\n",
              "      <td>81.000000</td>\n",
              "      <td>1.000000</td>\n",
              "    </tr>\n",
              "  </tbody>\n",
              "</table>\n",
              "</div>"
            ],
            "text/plain": [
              "       Pregnancies     Glucose  BloodPressure  SkinThickness     Insulin  \\\n",
              "count   768.000000  768.000000     768.000000     768.000000  768.000000   \n",
              "mean      3.845052  120.894531      69.105469      20.536458   79.799479   \n",
              "std       3.369578   31.972618      19.355807      15.952218  115.244002   \n",
              "min       0.000000    0.000000       0.000000       0.000000    0.000000   \n",
              "25%       1.000000   99.000000      62.000000       0.000000    0.000000   \n",
              "50%       3.000000  117.000000      72.000000      23.000000   30.500000   \n",
              "75%       6.000000  140.250000      80.000000      32.000000  127.250000   \n",
              "max      17.000000  199.000000     122.000000      99.000000  846.000000   \n",
              "\n",
              "              BMI  DiabetesPedigreeFunction         Age     Outcome  \n",
              "count  768.000000                768.000000  768.000000  768.000000  \n",
              "mean    31.992578                  0.471876   33.240885    0.348958  \n",
              "std      7.884160                  0.331329   11.760232    0.476951  \n",
              "min      0.000000                  0.078000   21.000000    0.000000  \n",
              "25%     27.300000                  0.243750   24.000000    0.000000  \n",
              "50%     32.000000                  0.372500   29.000000    0.000000  \n",
              "75%     36.600000                  0.626250   41.000000    1.000000  \n",
              "max     67.100000                  2.420000   81.000000    1.000000  "
            ]
          },
          "execution_count": 110,
          "metadata": {},
          "output_type": "execute_result"
        }
      ],
      "source": [
        "df.describe()"
      ]
    },
    {
      "cell_type": "code",
      "execution_count": 111,
      "metadata": {},
      "outputs": [
        {
          "name": "stdout",
          "output_type": "stream",
          "text": [
            "تعداد نتایج برای هر مقدار 0 و 1:\n",
            " Outcome\n",
            "0    500\n",
            "1    268\n",
            "Name: count, dtype: int64\n"
          ]
        },
        {
          "data": {
            "image/png": "[encoded data removed]",
            "text/plain": [
              "<Figure size 640x480 with 1 Axes>"
            ]
          },
          "metadata": {},
          "output_type": "display_data"
        }
      ],
      "source": [
        "sns.countplot(x='Outcome', data=df)\n",
        "print('تعداد نتایج برای هر مقدار 0 و 1:\\n',\n",
        "      df['Outcome'].value_counts())"
      ]
    },
    {
      "cell_type": "code",
      "execution_count": 112,
      "metadata": {},
      "outputs": [
        {
          "data": {
            "text/plain": [
              "<Axes: >"
            ]
          },
          "execution_count": 112,
          "metadata": {},
          "output_type": "execute_result"
        },
        {
          "data": {
            "image/png": "[encoded data removed]",
            "text/plain": [
              "<Figure size 900x900 with 2 Axes>"
            ]
          },
          "metadata": {},
          "output_type": "display_data"
        }
      ],
      "source": [
        "plt.subplots(figsize=(9, 9))\n",
        "sns.heatmap(df.corr(), annot=True)"
      ]
    },
    {
      "cell_type": "code",
      "execution_count": 113,
      "metadata": {},
      "outputs": [],
      "source": [
        "x = df.drop(\"Outcome\", axis=1)\n",
        "y = df.Outcome"
      ]
    },
    {
      "cell_type": "code",
      "execution_count": 114,
      "metadata": {},
      "outputs": [
        {
          "data": {
            "text/plain": [
              "0    1\n",
              "1    0\n",
              "2    1\n",
              "3    0\n",
              "4    1\n",
              "Name: Outcome, dtype: int64"
            ]
          },
          "execution_count": 114,
          "metadata": {},
          "output_type": "execute_result"
        }
      ],
      "source": [
        "y.head()"
      ]
    },
    {
      "cell_type": "code",
      "execution_count": 115,
      "metadata": {},
      "outputs": [
        {
          "data": {
            "text/plain": [
              "(768,)"
            ]
          },
          "execution_count": 115,
          "metadata": {},
          "output_type": "execute_result"
        }
      ],
      "source": [
        "y.shape"
      ]
    },
    {
      "cell_type": "code",
      "execution_count": 116,
      "metadata": {},
      "outputs": [],
      "source": [
        "from sklearn.model_selection import train_test_split\n",
        "X_train, X_test, y_train, y_test = train_test_split(x, y, test_size=0.2)"
      ]
    },
    {
      "cell_type": "code",
      "execution_count": 117,
      "metadata": {},
      "outputs": [],
      "source": [
        "from sklearn import linear_model"
      ]
    },
    {
      "cell_type": "code",
      "execution_count": 118,
      "metadata": {},
      "outputs": [
        {
          "name": "stderr",
          "output_type": "stream",
          "text": [
            "C:\\Users\\aliba\\AppData\\Roaming\\Python\\Python38\\site-packages\\sklearn\\linear_model\\_logistic.py:460: ConvergenceWarning: lbfgs failed to converge (status=1):\n",
            "STOP: TOTAL NO. of ITERATIONS REACHED LIMIT.\n",
            "\n",
            "Increase the number of iterations (max_iter) or scale the data as shown in:\n",
            "    https://scikit-learn.org/stable/modules/preprocessing.html\n",
            "Please also refer to the documentation for alternative solver options:\n",
            "    https://scikit-learn.org/stable/modules/linear_model.html#logistic-regression\n",
            "  n_iter_i = _check_optimize_result(\n"
          ]
        },
        {
          "data": {
            "text/html": [
              "<style>#sk-container-id-4 {color: black;}#sk-container-id-4 pre{padding: 0;}#sk-container-id-4 div.sk-toggleable {background-color: white;}#sk-container-id-4 label.sk-toggleable__label {cursor: pointer;display: block;width: 100%;margin-bottom: 0;padding: 0.3em;box-sizing: border-box;text-align: center;}#sk-container-id-4 label.sk-toggleable__label-arrow:before {content: \"▸\";float: left;margin-right: 0.25em;color: #696969;}#sk-container-id-4 label.sk-toggleable__label-arrow:hover:before {color: black;}#sk-container-id-4 div.sk-estimator:hover label.sk-toggleable__label-arrow:before {color: black;}#sk-container-id-4 div.sk-toggleable__content {max-height: 0;max-width: 0;overflow: hidden;text-align: left;background-color: #f0f8ff;}#sk-container-id-4 div.sk-toggleable__content pre {margin: 0.2em;color: black;border-radius: 0.25em;background-color: #f0f8ff;}#sk-container-id-4 input.sk-toggleable__control:checked~div.sk-toggleable__content {max-height: 200px;max-width: 100%;overflow: auto;}#sk-container-id-4 input.sk-toggleable__control:checked~label.sk-toggleable__label-arrow:before {content: \"▾\";}#sk-container-id-4 div.sk-estimator input.sk-toggleable__control:checked~label.sk-toggleable__label {background-color: #d4ebff;}#sk-container-id-4 div.sk-label input.sk-toggleable__control:checked~label.sk-toggleable__label {background-color: #d4ebff;}#sk-container-id-4 input.sk-hidden--visually {border: 0;clip: rect(1px 1px 1px 1px);clip: rect(1px, 1px, 1px, 1px);height: 1px;margin: -1px;overflow: hidden;padding: 0;position: absolute;width: 1px;}#sk-container-id-4 div.sk-estimator {font-family: monospace;background-color: #f0f8ff;border: 1px dotted black;border-radius: 0.25em;box-sizing: border-box;margin-bottom: 0.5em;}#sk-container-id-4 div.sk-estimator:hover {background-color: #d4ebff;}#sk-container-id-4 div.sk-parallel-item::after {content: \"\";width: 100%;border-bottom: 1px solid gray;flex-grow: 1;}#sk-container-id-4 div.sk-label:hover label.sk-toggleable__label {background-color: #d4ebff;}#sk-container-id-4 div.sk-serial::before {content: \"\";position: absolute;border-left: 1px solid gray;box-sizing: border-box;top: 0;bottom: 0;left: 50%;z-index: 0;}#sk-container-id-4 div.sk-serial {display: flex;flex-direction: column;align-items: center;background-color: white;padding-right: 0.2em;padding-left: 0.2em;position: relative;}#sk-container-id-4 div.sk-item {position: relative;z-index: 1;}#sk-container-id-4 div.sk-parallel {display: flex;align-items: stretch;justify-content: center;background-color: white;position: relative;}#sk-container-id-4 div.sk-item::before, #sk-container-id-4 div.sk-parallel-item::before {content: \"\";position: absolute;border-left: 1px solid gray;box-sizing: border-box;top: 0;bottom: 0;left: 50%;z-index: -1;}#sk-container-id-4 div.sk-parallel-item {display: flex;flex-direction: column;z-index: 1;position: relative;background-color: white;}#sk-container-id-4 div.sk-parallel-item:first-child::after {align-self: flex-end;width: 50%;}#sk-container-id-4 div.sk-parallel-item:last-child::after {align-self: flex-start;width: 50%;}#sk-container-id-4 div.sk-parallel-item:only-child::after {width: 0;}#sk-container-id-4 div.sk-dashed-wrapped {border: 1px dashed gray;margin: 0 0.4em 0.5em 0.4em;box-sizing: border-box;padding-bottom: 0.4em;background-color: white;}#sk-container-id-4 div.sk-label label {font-family: monospace;font-weight: bold;display: inline-block;line-height: 1.2em;}#sk-container-id-4 div.sk-label-container {text-align: center;}#sk-container-id-4 div.sk-container {/* jupyter's `normalize.less` sets `[hidden] { display: none; }` but bootstrap.min.css set `[hidden] { display: none !important; }` so we also need the `!important` here to be able to override the default hidden behavior on the sphinx rendered scikit-learn.org. See: https://github.com/scikit-learn/scikit-learn/issues/21755 */display: inline-block !important;position: relative;}#sk-container-id-4 div.sk-text-repr-fallback {display: none;}</style><div id=\"sk-container-id-4\" class=\"sk-top-container\"><div class=\"sk-text-repr-fallback\"><pre>LogisticRegression()</pre><b>In a Jupyter environment, please rerun this cell to show the HTML representation or trust the notebook. <br />On GitHub, the HTML representation is unable to render, please try loading this page with nbviewer.org.</b></div><div class=\"sk-container\" hidden><div class=\"sk-item\"><div class=\"sk-estimator sk-toggleable\"><input class=\"sk-toggleable__control sk-hidden--visually\" id=\"sk-estimator-id-4\" type=\"checkbox\" checked><label for=\"sk-estimator-id-4\" class=\"sk-toggleable__label sk-toggleable__label-arrow\">LogisticRegression</label><div class=\"sk-toggleable__content\"><pre>LogisticRegression()</pre></div></div></div></div></div>"
            ],
            "text/plain": [
              "LogisticRegression()"
            ]
          },
          "execution_count": 118,
          "metadata": {},
          "output_type": "execute_result"
        }
      ],
      "source": [
        "model=linear_model.LogisticRegression()\n",
        "model.fit(X_train,y_train)"
      ]
    },
    {
      "cell_type": "code",
      "execution_count": 119,
      "metadata": {},
      "outputs": [],
      "source": [
        "model = Sequential()\n",
        "model.add(Dense(12, input_dim=8, activation='relu'))\n",
        "model.add(Dense(8, activation='relu'))\n",
        "model.add(Dense(1, activation='sigmoid')) "
      ]
    },
    {
      "cell_type": "code",
      "execution_count": 120,
      "metadata": {},
      "outputs": [],
      "source": [
        "model.compile(loss='binary_crossentropy',\n",
        "              optimizer='adam', metrics=['accuracy'])"
      ]
    },
    {
      "cell_type": "code",
      "execution_count": 121,
      "metadata": {},
      "outputs": [
        {
          "name": "stdout",
          "output_type": "stream",
          "text": [
            "Epoch 1/200\n",
            "62/62 [==============================] - 1s 5ms/step - loss: 7.2764 - accuracy: 0.6450 - val_loss: 3.3581 - val_accuracy: 0.6234\n",
            "Epoch 2/200\n",
            "62/62 [==============================] - 0s 3ms/step - loss: 1.7607 - accuracy: 0.5537 - val_loss: 1.0130 - val_accuracy: 0.5649\n",
            "Epoch 3/200\n",
            "62/62 [==============================] - 0s 2ms/step - loss: 0.9283 - accuracy: 0.5375 - val_loss: 0.9271 - val_accuracy: 0.5974\n",
            "Epoch 4/200\n",
            "62/62 [==============================] - 0s 3ms/step - loss: 0.8930 - accuracy: 0.5293 - val_loss: 0.8432 - val_accuracy: 0.5844\n",
            "Epoch 5/200\n",
            "62/62 [==============================] - 0s 2ms/step - loss: 0.8358 - accuracy: 0.5489 - val_loss: 0.8231 - val_accuracy: 0.5909\n",
            "Epoch 6/200\n",
            "62/62 [==============================] - 0s 2ms/step - loss: 0.8083 - accuracy: 0.5749 - val_loss: 0.7635 - val_accuracy: 0.5974\n",
            "Epoch 7/200\n",
            "62/62 [==============================] - 0s 2ms/step - loss: 0.7784 - accuracy: 0.5603 - val_loss: 0.7482 - val_accuracy: 0.6039\n",
            "Epoch 8/200\n",
            "62/62 [==============================] - 0s 3ms/step - loss: 0.7461 - accuracy: 0.5749 - val_loss: 0.7377 - val_accuracy: 0.6039\n",
            "Epoch 9/200\n",
            "62/62 [==============================] - 0s 3ms/step - loss: 0.7351 - accuracy: 0.5798 - val_loss: 0.6884 - val_accuracy: 0.6364\n",
            "Epoch 10/200\n",
            "62/62 [==============================] - 0s 2ms/step - loss: 0.7161 - accuracy: 0.5863 - val_loss: 0.6987 - val_accuracy: 0.6623\n",
            "Epoch 11/200\n",
            "62/62 [==============================] - 0s 2ms/step - loss: 0.6996 - accuracy: 0.6042 - val_loss: 0.6727 - val_accuracy: 0.6558\n",
            "Epoch 12/200\n",
            "62/62 [==============================] - 0s 2ms/step - loss: 0.7020 - accuracy: 0.5879 - val_loss: 0.6330 - val_accuracy: 0.6429\n",
            "Epoch 13/200\n",
            "62/62 [==============================] - 0s 2ms/step - loss: 0.6721 - accuracy: 0.6042 - val_loss: 0.6293 - val_accuracy: 0.6364\n",
            "Epoch 14/200\n",
            "62/62 [==============================] - 0s 2ms/step - loss: 0.6623 - accuracy: 0.6221 - val_loss: 0.6266 - val_accuracy: 0.6558\n",
            "Epoch 15/200\n",
            "62/62 [==============================] - 0s 2ms/step - loss: 0.6537 - accuracy: 0.6433 - val_loss: 0.6235 - val_accuracy: 0.6558\n",
            "Epoch 16/200\n",
            "62/62 [==============================] - 0s 2ms/step - loss: 0.6479 - accuracy: 0.6156 - val_loss: 0.6206 - val_accuracy: 0.6429\n",
            "Epoch 17/200\n",
            "62/62 [==============================] - 0s 2ms/step - loss: 0.6438 - accuracy: 0.6417 - val_loss: 0.6272 - val_accuracy: 0.6623\n",
            "Epoch 18/200\n",
            "62/62 [==============================] - 0s 2ms/step - loss: 0.6443 - accuracy: 0.6189 - val_loss: 0.6188 - val_accuracy: 0.6623\n",
            "Epoch 19/200\n",
            "62/62 [==============================] - 0s 2ms/step - loss: 0.6407 - accuracy: 0.6531 - val_loss: 0.6019 - val_accuracy: 0.6364\n",
            "Epoch 20/200\n",
            "62/62 [==============================] - 0s 3ms/step - loss: 0.6328 - accuracy: 0.6466 - val_loss: 0.6173 - val_accuracy: 0.6494\n",
            "Epoch 21/200\n",
            "62/62 [==============================] - 0s 2ms/step - loss: 0.6369 - accuracy: 0.6303 - val_loss: 0.6059 - val_accuracy: 0.6753\n",
            "Epoch 22/200\n",
            "62/62 [==============================] - 0s 2ms/step - loss: 0.6409 - accuracy: 0.6580 - val_loss: 0.6144 - val_accuracy: 0.6623\n",
            "Epoch 23/200\n",
            "62/62 [==============================] - 0s 2ms/step - loss: 0.6270 - accuracy: 0.6498 - val_loss: 0.6695 - val_accuracy: 0.6558\n",
            "Epoch 24/200\n",
            "62/62 [==============================] - 0s 2ms/step - loss: 0.6288 - accuracy: 0.6645 - val_loss: 0.6498 - val_accuracy: 0.6623\n",
            "Epoch 25/200\n",
            "62/62 [==============================] - 0s 2ms/step - loss: 0.6257 - accuracy: 0.6596 - val_loss: 0.6480 - val_accuracy: 0.6753\n",
            "Epoch 26/200\n",
            "62/62 [==============================] - 0s 3ms/step - loss: 0.6260 - accuracy: 0.6580 - val_loss: 0.6003 - val_accuracy: 0.6688\n",
            "Epoch 27/200\n",
            "62/62 [==============================] - 0s 3ms/step - loss: 0.6403 - accuracy: 0.6482 - val_loss: 0.5993 - val_accuracy: 0.7013\n",
            "Epoch 28/200\n",
            "62/62 [==============================] - 0s 3ms/step - loss: 0.6151 - accuracy: 0.6759 - val_loss: 0.6020 - val_accuracy: 0.6494\n",
            "Epoch 29/200\n",
            "62/62 [==============================] - 0s 3ms/step - loss: 0.6209 - accuracy: 0.6824 - val_loss: 0.6525 - val_accuracy: 0.6818\n",
            "Epoch 30/200\n",
            "62/62 [==============================] - 0s 3ms/step - loss: 0.6135 - accuracy: 0.6840 - val_loss: 0.6154 - val_accuracy: 0.6234\n",
            "Epoch 31/200\n",
            "62/62 [==============================] - 0s 3ms/step - loss: 0.6106 - accuracy: 0.6743 - val_loss: 0.6002 - val_accuracy: 0.6948\n",
            "Epoch 32/200\n",
            "62/62 [==============================] - 0s 3ms/step - loss: 0.6083 - accuracy: 0.6775 - val_loss: 0.6525 - val_accuracy: 0.6883\n",
            "Epoch 33/200\n",
            "62/62 [==============================] - 0s 2ms/step - loss: 0.6080 - accuracy: 0.6661 - val_loss: 0.6076 - val_accuracy: 0.6299\n",
            "Epoch 34/200\n",
            "62/62 [==============================] - 0s 3ms/step - loss: 0.6076 - accuracy: 0.6792 - val_loss: 0.6166 - val_accuracy: 0.6364\n",
            "Epoch 35/200\n",
            "62/62 [==============================] - 0s 3ms/step - loss: 0.6165 - accuracy: 0.6450 - val_loss: 0.6305 - val_accuracy: 0.6364\n",
            "Epoch 36/200\n",
            "62/62 [==============================] - 0s 3ms/step - loss: 0.6136 - accuracy: 0.6629 - val_loss: 0.6071 - val_accuracy: 0.6883\n",
            "Epoch 37/200\n",
            "62/62 [==============================] - 0s 2ms/step - loss: 0.6162 - accuracy: 0.6515 - val_loss: 0.6274 - val_accuracy: 0.6429\n",
            "Epoch 38/200\n",
            "62/62 [==============================] - 0s 2ms/step - loss: 0.6149 - accuracy: 0.6808 - val_loss: 0.5985 - val_accuracy: 0.6299\n",
            "Epoch 39/200\n",
            "62/62 [==============================] - 0s 3ms/step - loss: 0.6034 - accuracy: 0.6889 - val_loss: 0.6173 - val_accuracy: 0.6818\n",
            "Epoch 40/200\n",
            "62/62 [==============================] - 0s 3ms/step - loss: 0.6225 - accuracy: 0.6482 - val_loss: 0.5897 - val_accuracy: 0.6753\n",
            "Epoch 41/200\n",
            "62/62 [==============================] - 0s 3ms/step - loss: 0.6057 - accuracy: 0.6808 - val_loss: 0.5864 - val_accuracy: 0.7013\n",
            "Epoch 42/200\n",
            "62/62 [==============================] - 0s 3ms/step - loss: 0.5970 - accuracy: 0.6873 - val_loss: 0.6776 - val_accuracy: 0.6494\n",
            "Epoch 43/200\n",
            "62/62 [==============================] - 0s 3ms/step - loss: 0.6089 - accuracy: 0.6726 - val_loss: 0.6039 - val_accuracy: 0.6818\n",
            "Epoch 44/200\n",
            "62/62 [==============================] - 0s 2ms/step - loss: 0.6102 - accuracy: 0.6612 - val_loss: 0.5919 - val_accuracy: 0.6429\n",
            "Epoch 45/200\n",
            "62/62 [==============================] - 0s 3ms/step - loss: 0.6010 - accuracy: 0.6710 - val_loss: 0.5826 - val_accuracy: 0.7208\n",
            "Epoch 46/200\n",
            "62/62 [==============================] - 0s 3ms/step - loss: 0.6033 - accuracy: 0.6824 - val_loss: 0.5968 - val_accuracy: 0.6494\n",
            "Epoch 47/200\n",
            "62/62 [==============================] - 0s 2ms/step - loss: 0.5962 - accuracy: 0.6857 - val_loss: 0.5822 - val_accuracy: 0.7013\n",
            "Epoch 48/200\n",
            "62/62 [==============================] - 0s 2ms/step - loss: 0.5885 - accuracy: 0.6938 - val_loss: 0.6006 - val_accuracy: 0.6688\n",
            "Epoch 49/200\n",
            "62/62 [==============================] - 0s 2ms/step - loss: 0.5995 - accuracy: 0.6840 - val_loss: 0.5825 - val_accuracy: 0.6883\n",
            "Epoch 50/200\n",
            "62/62 [==============================] - 0s 3ms/step - loss: 0.5970 - accuracy: 0.6645 - val_loss: 0.5970 - val_accuracy: 0.6299\n",
            "Epoch 51/200\n",
            "62/62 [==============================] - 0s 3ms/step - loss: 0.5949 - accuracy: 0.6678 - val_loss: 0.6152 - val_accuracy: 0.6299\n",
            "Epoch 52/200\n",
            "62/62 [==============================] - 0s 3ms/step - loss: 0.5906 - accuracy: 0.6954 - val_loss: 0.6046 - val_accuracy: 0.6234\n",
            "Epoch 53/200\n",
            "62/62 [==============================] - 0s 3ms/step - loss: 0.5920 - accuracy: 0.6808 - val_loss: 0.6442 - val_accuracy: 0.6364\n",
            "Epoch 54/200\n",
            "62/62 [==============================] - 0s 3ms/step - loss: 0.5807 - accuracy: 0.6938 - val_loss: 0.6096 - val_accuracy: 0.6883\n",
            "Epoch 55/200\n",
            "62/62 [==============================] - 0s 3ms/step - loss: 0.5979 - accuracy: 0.6792 - val_loss: 0.6095 - val_accuracy: 0.7078\n",
            "Epoch 56/200\n",
            "62/62 [==============================] - 0s 2ms/step - loss: 0.5875 - accuracy: 0.7003 - val_loss: 0.5750 - val_accuracy: 0.7273\n",
            "Epoch 57/200\n",
            "62/62 [==============================] - 0s 2ms/step - loss: 0.5836 - accuracy: 0.6840 - val_loss: 0.6075 - val_accuracy: 0.6818\n",
            "Epoch 58/200\n",
            "62/62 [==============================] - 0s 2ms/step - loss: 0.5995 - accuracy: 0.6694 - val_loss: 0.5853 - val_accuracy: 0.6753\n",
            "Epoch 59/200\n",
            "62/62 [==============================] - 0s 2ms/step - loss: 0.5887 - accuracy: 0.7036 - val_loss: 0.5857 - val_accuracy: 0.6818\n",
            "Epoch 60/200\n",
            "62/62 [==============================] - 0s 3ms/step - loss: 0.5782 - accuracy: 0.7068 - val_loss: 0.6129 - val_accuracy: 0.6948\n",
            "Epoch 61/200\n",
            "62/62 [==============================] - 0s 3ms/step - loss: 0.5858 - accuracy: 0.6971 - val_loss: 0.5834 - val_accuracy: 0.7273\n",
            "Epoch 62/200\n",
            "62/62 [==============================] - 0s 4ms/step - loss: 0.5827 - accuracy: 0.7068 - val_loss: 0.5832 - val_accuracy: 0.7013\n",
            "Epoch 63/200\n",
            "62/62 [==============================] - 0s 3ms/step - loss: 0.5822 - accuracy: 0.6987 - val_loss: 0.6111 - val_accuracy: 0.6623\n",
            "Epoch 64/200\n",
            "62/62 [==============================] - 0s 3ms/step - loss: 0.5796 - accuracy: 0.7020 - val_loss: 0.6007 - val_accuracy: 0.6818\n",
            "Epoch 65/200\n",
            "62/62 [==============================] - 0s 2ms/step - loss: 0.5846 - accuracy: 0.6824 - val_loss: 0.5708 - val_accuracy: 0.7143\n",
            "Epoch 66/200\n",
            "62/62 [==============================] - 0s 2ms/step - loss: 0.5752 - accuracy: 0.7036 - val_loss: 0.5917 - val_accuracy: 0.6558\n",
            "Epoch 67/200\n",
            "62/62 [==============================] - 0s 2ms/step - loss: 0.5689 - accuracy: 0.7101 - val_loss: 0.6288 - val_accuracy: 0.6883\n",
            "Epoch 68/200\n",
            "62/62 [==============================] - 0s 2ms/step - loss: 0.5767 - accuracy: 0.7020 - val_loss: 0.5800 - val_accuracy: 0.6688\n",
            "Epoch 69/200\n",
            "62/62 [==============================] - 0s 2ms/step - loss: 0.5761 - accuracy: 0.7052 - val_loss: 0.6006 - val_accuracy: 0.7078\n",
            "Epoch 70/200\n",
            "62/62 [==============================] - 0s 3ms/step - loss: 0.5892 - accuracy: 0.7166 - val_loss: 0.5909 - val_accuracy: 0.6753\n",
            "Epoch 71/200\n",
            "62/62 [==============================] - 0s 2ms/step - loss: 0.5672 - accuracy: 0.7036 - val_loss: 0.5683 - val_accuracy: 0.7338\n",
            "Epoch 72/200\n",
            "62/62 [==============================] - 0s 2ms/step - loss: 0.5737 - accuracy: 0.7068 - val_loss: 0.5922 - val_accuracy: 0.6558\n",
            "Epoch 73/200\n",
            "62/62 [==============================] - 0s 2ms/step - loss: 0.5659 - accuracy: 0.7134 - val_loss: 0.5828 - val_accuracy: 0.7208\n",
            "Epoch 74/200\n",
            "62/62 [==============================] - 0s 2ms/step - loss: 0.5715 - accuracy: 0.6906 - val_loss: 0.5728 - val_accuracy: 0.6948\n",
            "Epoch 75/200\n",
            "62/62 [==============================] - 0s 2ms/step - loss: 0.5688 - accuracy: 0.7003 - val_loss: 0.6020 - val_accuracy: 0.6883\n",
            "Epoch 76/200\n",
            "62/62 [==============================] - 0s 2ms/step - loss: 0.5665 - accuracy: 0.6922 - val_loss: 0.5761 - val_accuracy: 0.6753\n",
            "Epoch 77/200\n",
            "62/62 [==============================] - 0s 2ms/step - loss: 0.5621 - accuracy: 0.7264 - val_loss: 0.5659 - val_accuracy: 0.7078\n",
            "Epoch 78/200\n",
            "62/62 [==============================] - 0s 2ms/step - loss: 0.5668 - accuracy: 0.7068 - val_loss: 0.5648 - val_accuracy: 0.7143\n",
            "Epoch 79/200\n",
            "62/62 [==============================] - 0s 2ms/step - loss: 0.5578 - accuracy: 0.7020 - val_loss: 0.5630 - val_accuracy: 0.6883\n",
            "Epoch 80/200\n",
            "62/62 [==============================] - 0s 2ms/step - loss: 0.5612 - accuracy: 0.7166 - val_loss: 0.5572 - val_accuracy: 0.7338\n",
            "Epoch 81/200\n",
            "62/62 [==============================] - 0s 2ms/step - loss: 0.5603 - accuracy: 0.7003 - val_loss: 0.5608 - val_accuracy: 0.6883\n",
            "Epoch 82/200\n",
            "62/62 [==============================] - 0s 2ms/step - loss: 0.5673 - accuracy: 0.6922 - val_loss: 0.5781 - val_accuracy: 0.6623\n",
            "Epoch 83/200\n",
            "62/62 [==============================] - 0s 2ms/step - loss: 0.5579 - accuracy: 0.7199 - val_loss: 0.5573 - val_accuracy: 0.7468\n",
            "Epoch 84/200\n",
            "62/62 [==============================] - 0s 2ms/step - loss: 0.5549 - accuracy: 0.7052 - val_loss: 0.6062 - val_accuracy: 0.6688\n",
            "Epoch 85/200\n",
            "62/62 [==============================] - 0s 2ms/step - loss: 0.5626 - accuracy: 0.7231 - val_loss: 0.5530 - val_accuracy: 0.7078\n",
            "Epoch 86/200\n",
            "62/62 [==============================] - 0s 2ms/step - loss: 0.5615 - accuracy: 0.7085 - val_loss: 0.5521 - val_accuracy: 0.7468\n",
            "Epoch 87/200\n",
            "62/62 [==============================] - 0s 2ms/step - loss: 0.5592 - accuracy: 0.7199 - val_loss: 0.5513 - val_accuracy: 0.7013\n",
            "Epoch 88/200\n",
            "62/62 [==============================] - 0s 2ms/step - loss: 0.5484 - accuracy: 0.7101 - val_loss: 0.5574 - val_accuracy: 0.6494\n",
            "Epoch 89/200\n",
            "62/62 [==============================] - 0s 2ms/step - loss: 0.5443 - accuracy: 0.7134 - val_loss: 0.5545 - val_accuracy: 0.6623\n",
            "Epoch 90/200\n",
            "62/62 [==============================] - 0s 2ms/step - loss: 0.5563 - accuracy: 0.7117 - val_loss: 0.5555 - val_accuracy: 0.7078\n",
            "Epoch 91/200\n",
            "62/62 [==============================] - 0s 2ms/step - loss: 0.5428 - accuracy: 0.7150 - val_loss: 0.5500 - val_accuracy: 0.6883\n",
            "Epoch 92/200\n",
            "62/62 [==============================] - 0s 3ms/step - loss: 0.5591 - accuracy: 0.7215 - val_loss: 0.5437 - val_accuracy: 0.7013\n",
            "Epoch 93/200\n",
            "62/62 [==============================] - 0s 2ms/step - loss: 0.5466 - accuracy: 0.7085 - val_loss: 0.5631 - val_accuracy: 0.6623\n",
            "Epoch 94/200\n",
            "62/62 [==============================] - 0s 2ms/step - loss: 0.5440 - accuracy: 0.7215 - val_loss: 0.5608 - val_accuracy: 0.6883\n",
            "Epoch 95/200\n",
            "62/62 [==============================] - 0s 2ms/step - loss: 0.5387 - accuracy: 0.7296 - val_loss: 0.5554 - val_accuracy: 0.6753\n",
            "Epoch 96/200\n",
            "62/62 [==============================] - 0s 2ms/step - loss: 0.5392 - accuracy: 0.7052 - val_loss: 0.5405 - val_accuracy: 0.7338\n",
            "Epoch 97/200\n",
            "62/62 [==============================] - 0s 2ms/step - loss: 0.5310 - accuracy: 0.7231 - val_loss: 0.5637 - val_accuracy: 0.6753\n",
            "Epoch 98/200\n",
            "62/62 [==============================] - 0s 2ms/step - loss: 0.5410 - accuracy: 0.7215 - val_loss: 0.5501 - val_accuracy: 0.6818\n",
            "Epoch 99/200\n",
            "62/62 [==============================] - 0s 2ms/step - loss: 0.5277 - accuracy: 0.7345 - val_loss: 0.5672 - val_accuracy: 0.6948\n",
            "Epoch 100/200\n",
            "62/62 [==============================] - 0s 2ms/step - loss: 0.5344 - accuracy: 0.7215 - val_loss: 0.5713 - val_accuracy: 0.6948\n",
            "Epoch 101/200\n",
            "62/62 [==============================] - 0s 2ms/step - loss: 0.5403 - accuracy: 0.7166 - val_loss: 0.5427 - val_accuracy: 0.7208\n",
            "Epoch 102/200\n",
            "62/62 [==============================] - 0s 2ms/step - loss: 0.5262 - accuracy: 0.7264 - val_loss: 0.5593 - val_accuracy: 0.7078\n",
            "Epoch 103/200\n",
            "62/62 [==============================] - 0s 2ms/step - loss: 0.5313 - accuracy: 0.7117 - val_loss: 0.5559 - val_accuracy: 0.7338\n",
            "Epoch 104/200\n",
            "62/62 [==============================] - 0s 2ms/step - loss: 0.5282 - accuracy: 0.7182 - val_loss: 0.5483 - val_accuracy: 0.6883\n",
            "Epoch 105/200\n",
            "62/62 [==============================] - 0s 2ms/step - loss: 0.5306 - accuracy: 0.7280 - val_loss: 0.5905 - val_accuracy: 0.6753\n",
            "Epoch 106/200\n",
            "62/62 [==============================] - 0s 2ms/step - loss: 0.5356 - accuracy: 0.7020 - val_loss: 0.5454 - val_accuracy: 0.7403\n",
            "Epoch 107/200\n",
            "62/62 [==============================] - 0s 2ms/step - loss: 0.5362 - accuracy: 0.7199 - val_loss: 0.5612 - val_accuracy: 0.6753\n",
            "Epoch 108/200\n",
            "62/62 [==============================] - 0s 2ms/step - loss: 0.5407 - accuracy: 0.7117 - val_loss: 0.5466 - val_accuracy: 0.6883\n",
            "Epoch 109/200\n",
            "62/62 [==============================] - 0s 2ms/step - loss: 0.5249 - accuracy: 0.7313 - val_loss: 0.5977 - val_accuracy: 0.6753\n",
            "Epoch 110/200\n",
            "62/62 [==============================] - 0s 2ms/step - loss: 0.5355 - accuracy: 0.7215 - val_loss: 0.5741 - val_accuracy: 0.6753\n",
            "Epoch 111/200\n",
            "62/62 [==============================] - 0s 2ms/step - loss: 0.5227 - accuracy: 0.7264 - val_loss: 0.5481 - val_accuracy: 0.6948\n",
            "Epoch 112/200\n",
            "62/62 [==============================] - 0s 2ms/step - loss: 0.5193 - accuracy: 0.7264 - val_loss: 0.5471 - val_accuracy: 0.7208\n",
            "Epoch 113/200\n",
            "62/62 [==============================] - 0s 2ms/step - loss: 0.5194 - accuracy: 0.7280 - val_loss: 0.5424 - val_accuracy: 0.7078\n",
            "Epoch 114/200\n",
            "62/62 [==============================] - 0s 2ms/step - loss: 0.5235 - accuracy: 0.7199 - val_loss: 0.5547 - val_accuracy: 0.7468\n",
            "Epoch 115/200\n",
            "62/62 [==============================] - 0s 2ms/step - loss: 0.5200 - accuracy: 0.7296 - val_loss: 0.5387 - val_accuracy: 0.7273\n",
            "Epoch 116/200\n",
            "62/62 [==============================] - 0s 2ms/step - loss: 0.5125 - accuracy: 0.7296 - val_loss: 0.5650 - val_accuracy: 0.6948\n",
            "Epoch 117/200\n",
            "62/62 [==============================] - 0s 2ms/step - loss: 0.5196 - accuracy: 0.7524 - val_loss: 0.5899 - val_accuracy: 0.7143\n",
            "Epoch 118/200\n",
            "62/62 [==============================] - 0s 2ms/step - loss: 0.5170 - accuracy: 0.7362 - val_loss: 0.5495 - val_accuracy: 0.7273\n",
            "Epoch 119/200\n",
            "62/62 [==============================] - 0s 2ms/step - loss: 0.5435 - accuracy: 0.7166 - val_loss: 0.5303 - val_accuracy: 0.7338\n",
            "Epoch 120/200\n",
            "62/62 [==============================] - 0s 2ms/step - loss: 0.5117 - accuracy: 0.7362 - val_loss: 0.5382 - val_accuracy: 0.7597\n",
            "Epoch 121/200\n",
            "62/62 [==============================] - 0s 2ms/step - loss: 0.5281 - accuracy: 0.7313 - val_loss: 0.5511 - val_accuracy: 0.7143\n",
            "Epoch 122/200\n",
            "62/62 [==============================] - 0s 2ms/step - loss: 0.5101 - accuracy: 0.7492 - val_loss: 0.5467 - val_accuracy: 0.7143\n",
            "Epoch 123/200\n",
            "62/62 [==============================] - 0s 2ms/step - loss: 0.5116 - accuracy: 0.7443 - val_loss: 0.5370 - val_accuracy: 0.7338\n",
            "Epoch 124/200\n",
            "62/62 [==============================] - 0s 2ms/step - loss: 0.5110 - accuracy: 0.7590 - val_loss: 0.5675 - val_accuracy: 0.7273\n",
            "Epoch 125/200\n",
            "62/62 [==============================] - 0s 2ms/step - loss: 0.5179 - accuracy: 0.7313 - val_loss: 0.5383 - val_accuracy: 0.7338\n",
            "Epoch 126/200\n",
            "62/62 [==============================] - 0s 2ms/step - loss: 0.5174 - accuracy: 0.7166 - val_loss: 0.5340 - val_accuracy: 0.7403\n",
            "Epoch 127/200\n",
            "62/62 [==============================] - 0s 2ms/step - loss: 0.5101 - accuracy: 0.7329 - val_loss: 0.5257 - val_accuracy: 0.7468\n",
            "Epoch 128/200\n",
            "62/62 [==============================] - 0s 2ms/step - loss: 0.5236 - accuracy: 0.7280 - val_loss: 0.5385 - val_accuracy: 0.7208\n",
            "Epoch 129/200\n",
            "62/62 [==============================] - 0s 2ms/step - loss: 0.5066 - accuracy: 0.7492 - val_loss: 0.5560 - val_accuracy: 0.7338\n",
            "Epoch 130/200\n",
            "62/62 [==============================] - 0s 2ms/step - loss: 0.5073 - accuracy: 0.7248 - val_loss: 0.5469 - val_accuracy: 0.7403\n",
            "Epoch 131/200\n",
            "62/62 [==============================] - 0s 2ms/step - loss: 0.5059 - accuracy: 0.7427 - val_loss: 0.5687 - val_accuracy: 0.7143\n",
            "Epoch 132/200\n",
            "62/62 [==============================] - 0s 2ms/step - loss: 0.5144 - accuracy: 0.7459 - val_loss: 0.5511 - val_accuracy: 0.7403\n",
            "Epoch 133/200\n",
            "62/62 [==============================] - 0s 2ms/step - loss: 0.5070 - accuracy: 0.7459 - val_loss: 0.5388 - val_accuracy: 0.7208\n",
            "Epoch 134/200\n",
            "62/62 [==============================] - 0s 2ms/step - loss: 0.4990 - accuracy: 0.7476 - val_loss: 0.5492 - val_accuracy: 0.7208\n",
            "Epoch 135/200\n",
            "62/62 [==============================] - 0s 2ms/step - loss: 0.5048 - accuracy: 0.7345 - val_loss: 0.5286 - val_accuracy: 0.7273\n",
            "Epoch 136/200\n",
            "62/62 [==============================] - 0s 2ms/step - loss: 0.5107 - accuracy: 0.7345 - val_loss: 0.5369 - val_accuracy: 0.7403\n",
            "Epoch 137/200\n",
            "62/62 [==============================] - 0s 2ms/step - loss: 0.5025 - accuracy: 0.7541 - val_loss: 0.5753 - val_accuracy: 0.7143\n",
            "Epoch 138/200\n",
            "62/62 [==============================] - 0s 2ms/step - loss: 0.5106 - accuracy: 0.7410 - val_loss: 0.5629 - val_accuracy: 0.7403\n",
            "Epoch 139/200\n",
            "62/62 [==============================] - 0s 2ms/step - loss: 0.5024 - accuracy: 0.7410 - val_loss: 0.5264 - val_accuracy: 0.7273\n",
            "Epoch 140/200\n",
            "62/62 [==============================] - 0s 2ms/step - loss: 0.5015 - accuracy: 0.7362 - val_loss: 0.5736 - val_accuracy: 0.7143\n",
            "Epoch 141/200\n",
            "62/62 [==============================] - 0s 2ms/step - loss: 0.5011 - accuracy: 0.7524 - val_loss: 0.5373 - val_accuracy: 0.7208\n",
            "Epoch 142/200\n",
            "62/62 [==============================] - 0s 2ms/step - loss: 0.5046 - accuracy: 0.7443 - val_loss: 0.5515 - val_accuracy: 0.7403\n",
            "Epoch 143/200\n",
            "62/62 [==============================] - 0s 2ms/step - loss: 0.5022 - accuracy: 0.7524 - val_loss: 0.5193 - val_accuracy: 0.7597\n",
            "Epoch 144/200\n",
            "62/62 [==============================] - 0s 2ms/step - loss: 0.5115 - accuracy: 0.7410 - val_loss: 0.5283 - val_accuracy: 0.7727\n",
            "Epoch 145/200\n",
            "62/62 [==============================] - 0s 2ms/step - loss: 0.4978 - accuracy: 0.7492 - val_loss: 0.5314 - val_accuracy: 0.7403\n",
            "Epoch 146/200\n",
            "62/62 [==============================] - 0s 2ms/step - loss: 0.4940 - accuracy: 0.7410 - val_loss: 0.5337 - val_accuracy: 0.7532\n",
            "Epoch 147/200\n",
            "62/62 [==============================] - 0s 2ms/step - loss: 0.5027 - accuracy: 0.7410 - val_loss: 0.5229 - val_accuracy: 0.7273\n",
            "Epoch 148/200\n",
            "62/62 [==============================] - 0s 2ms/step - loss: 0.5025 - accuracy: 0.7378 - val_loss: 0.5580 - val_accuracy: 0.7273\n",
            "Epoch 149/200\n",
            "62/62 [==============================] - 0s 2ms/step - loss: 0.5102 - accuracy: 0.7427 - val_loss: 0.5643 - val_accuracy: 0.7338\n",
            "Epoch 150/200\n",
            "62/62 [==============================] - 0s 2ms/step - loss: 0.5047 - accuracy: 0.7394 - val_loss: 0.5600 - val_accuracy: 0.7273\n",
            "Epoch 151/200\n",
            "62/62 [==============================] - 0s 2ms/step - loss: 0.4967 - accuracy: 0.7492 - val_loss: 0.5165 - val_accuracy: 0.7532\n",
            "Epoch 152/200\n",
            "62/62 [==============================] - 0s 2ms/step - loss: 0.5133 - accuracy: 0.7622 - val_loss: 0.5153 - val_accuracy: 0.7597\n",
            "Epoch 153/200\n",
            "62/62 [==============================] - 0s 2ms/step - loss: 0.4988 - accuracy: 0.7394 - val_loss: 0.5172 - val_accuracy: 0.7403\n",
            "Epoch 154/200\n",
            "62/62 [==============================] - 0s 2ms/step - loss: 0.4880 - accuracy: 0.7541 - val_loss: 0.5454 - val_accuracy: 0.7468\n",
            "Epoch 155/200\n",
            "62/62 [==============================] - 0s 2ms/step - loss: 0.5128 - accuracy: 0.7427 - val_loss: 0.5239 - val_accuracy: 0.7468\n",
            "Epoch 156/200\n",
            "62/62 [==============================] - 0s 2ms/step - loss: 0.5009 - accuracy: 0.7427 - val_loss: 0.5625 - val_accuracy: 0.7143\n",
            "Epoch 157/200\n",
            "62/62 [==============================] - 0s 2ms/step - loss: 0.5025 - accuracy: 0.7329 - val_loss: 0.5182 - val_accuracy: 0.7987\n",
            "Epoch 158/200\n",
            "62/62 [==============================] - 0s 2ms/step - loss: 0.4916 - accuracy: 0.7378 - val_loss: 0.5713 - val_accuracy: 0.7143\n",
            "Epoch 159/200\n",
            "62/62 [==============================] - 0s 2ms/step - loss: 0.5006 - accuracy: 0.7394 - val_loss: 0.5451 - val_accuracy: 0.7143\n",
            "Epoch 160/200\n",
            "62/62 [==============================] - 0s 2ms/step - loss: 0.4967 - accuracy: 0.7427 - val_loss: 0.5089 - val_accuracy: 0.7468\n",
            "Epoch 161/200\n",
            "62/62 [==============================] - 0s 2ms/step - loss: 0.4983 - accuracy: 0.7345 - val_loss: 0.5294 - val_accuracy: 0.7403\n",
            "Epoch 162/200\n",
            "62/62 [==============================] - 0s 2ms/step - loss: 0.4819 - accuracy: 0.7622 - val_loss: 0.5026 - val_accuracy: 0.7597\n",
            "Epoch 163/200\n",
            "62/62 [==============================] - 0s 2ms/step - loss: 0.4992 - accuracy: 0.7459 - val_loss: 0.5154 - val_accuracy: 0.7662\n",
            "Epoch 164/200\n",
            "62/62 [==============================] - 0s 2ms/step - loss: 0.4971 - accuracy: 0.7655 - val_loss: 0.5224 - val_accuracy: 0.7468\n",
            "Epoch 165/200\n",
            "62/62 [==============================] - 0s 2ms/step - loss: 0.4929 - accuracy: 0.7638 - val_loss: 0.5591 - val_accuracy: 0.7338\n",
            "Epoch 166/200\n",
            "62/62 [==============================] - 0s 2ms/step - loss: 0.4916 - accuracy: 0.7622 - val_loss: 0.5176 - val_accuracy: 0.7403\n",
            "Epoch 167/200\n",
            "62/62 [==============================] - 0s 2ms/step - loss: 0.4984 - accuracy: 0.7443 - val_loss: 0.4996 - val_accuracy: 0.7597\n",
            "Epoch 168/200\n",
            "62/62 [==============================] - 0s 2ms/step - loss: 0.4923 - accuracy: 0.7622 - val_loss: 0.5144 - val_accuracy: 0.7597\n",
            "Epoch 169/200\n",
            "62/62 [==============================] - 0s 2ms/step - loss: 0.4880 - accuracy: 0.7427 - val_loss: 0.5102 - val_accuracy: 0.7597\n",
            "Epoch 170/200\n",
            "62/62 [==============================] - 0s 2ms/step - loss: 0.4906 - accuracy: 0.7638 - val_loss: 0.5082 - val_accuracy: 0.7468\n",
            "Epoch 171/200\n",
            "62/62 [==============================] - 0s 2ms/step - loss: 0.4899 - accuracy: 0.7492 - val_loss: 0.5093 - val_accuracy: 0.7468\n",
            "Epoch 172/200\n",
            "62/62 [==============================] - 0s 2ms/step - loss: 0.4887 - accuracy: 0.7459 - val_loss: 0.5167 - val_accuracy: 0.7662\n",
            "Epoch 173/200\n",
            "62/62 [==============================] - 0s 2ms/step - loss: 0.4922 - accuracy: 0.7524 - val_loss: 0.5032 - val_accuracy: 0.7662\n",
            "Epoch 174/200\n",
            "62/62 [==============================] - 0s 2ms/step - loss: 0.4819 - accuracy: 0.7476 - val_loss: 0.5131 - val_accuracy: 0.7468\n",
            "Epoch 175/200\n",
            "62/62 [==============================] - 0s 2ms/step - loss: 0.4885 - accuracy: 0.7492 - val_loss: 0.5027 - val_accuracy: 0.7532\n",
            "Epoch 176/200\n",
            "62/62 [==============================] - 0s 2ms/step - loss: 0.5107 - accuracy: 0.7345 - val_loss: 0.5228 - val_accuracy: 0.7532\n",
            "Epoch 177/200\n",
            "62/62 [==============================] - 0s 2ms/step - loss: 0.4864 - accuracy: 0.7524 - val_loss: 0.5459 - val_accuracy: 0.7468\n",
            "Epoch 178/200\n",
            "62/62 [==============================] - 0s 2ms/step - loss: 0.4968 - accuracy: 0.7508 - val_loss: 0.5615 - val_accuracy: 0.7273\n",
            "Epoch 179/200\n",
            "62/62 [==============================] - 0s 2ms/step - loss: 0.4846 - accuracy: 0.7427 - val_loss: 0.5264 - val_accuracy: 0.7597\n",
            "Epoch 180/200\n",
            "62/62 [==============================] - 0s 2ms/step - loss: 0.4872 - accuracy: 0.7638 - val_loss: 0.5130 - val_accuracy: 0.7857\n",
            "Epoch 181/200\n",
            "62/62 [==============================] - 0s 2ms/step - loss: 0.4879 - accuracy: 0.7524 - val_loss: 0.5232 - val_accuracy: 0.7532\n",
            "Epoch 182/200\n",
            "62/62 [==============================] - 0s 2ms/step - loss: 0.5009 - accuracy: 0.7476 - val_loss: 0.4838 - val_accuracy: 0.7662\n",
            "Epoch 183/200\n",
            "62/62 [==============================] - 0s 2ms/step - loss: 0.4880 - accuracy: 0.7459 - val_loss: 0.5464 - val_accuracy: 0.7403\n",
            "Epoch 184/200\n",
            "62/62 [==============================] - 0s 2ms/step - loss: 0.4854 - accuracy: 0.7492 - val_loss: 0.4949 - val_accuracy: 0.7597\n",
            "Epoch 185/200\n",
            "62/62 [==============================] - 0s 2ms/step - loss: 0.4827 - accuracy: 0.7573 - val_loss: 0.4927 - val_accuracy: 0.7727\n",
            "Epoch 186/200\n",
            "62/62 [==============================] - 0s 2ms/step - loss: 0.4832 - accuracy: 0.7573 - val_loss: 0.5231 - val_accuracy: 0.7597\n",
            "Epoch 187/200\n",
            "62/62 [==============================] - 0s 2ms/step - loss: 0.4874 - accuracy: 0.7590 - val_loss: 0.5346 - val_accuracy: 0.7597\n",
            "Epoch 188/200\n",
            "62/62 [==============================] - 0s 2ms/step - loss: 0.4845 - accuracy: 0.7622 - val_loss: 0.5310 - val_accuracy: 0.7597\n",
            "Epoch 189/200\n",
            "62/62 [==============================] - 0s 2ms/step - loss: 0.4760 - accuracy: 0.7622 - val_loss: 0.4881 - val_accuracy: 0.7597\n",
            "Epoch 190/200\n",
            "62/62 [==============================] - 0s 2ms/step - loss: 0.4858 - accuracy: 0.7590 - val_loss: 0.5430 - val_accuracy: 0.7403\n",
            "Epoch 191/200\n",
            "62/62 [==============================] - 0s 2ms/step - loss: 0.4809 - accuracy: 0.7524 - val_loss: 0.4979 - val_accuracy: 0.7532\n",
            "Epoch 192/200\n",
            "62/62 [==============================] - 0s 2ms/step - loss: 0.4791 - accuracy: 0.7655 - val_loss: 0.5008 - val_accuracy: 0.7792\n",
            "Epoch 193/200\n",
            "62/62 [==============================] - 0s 2ms/step - loss: 0.4850 - accuracy: 0.7524 - val_loss: 0.4982 - val_accuracy: 0.7792\n",
            "Epoch 194/200\n",
            "62/62 [==============================] - 0s 2ms/step - loss: 0.4806 - accuracy: 0.7524 - val_loss: 0.5136 - val_accuracy: 0.7662\n",
            "Epoch 195/200\n",
            "62/62 [==============================] - 0s 2ms/step - loss: 0.4838 - accuracy: 0.7427 - val_loss: 0.5006 - val_accuracy: 0.7727\n",
            "Epoch 196/200\n",
            "62/62 [==============================] - 0s 2ms/step - loss: 0.4843 - accuracy: 0.7524 - val_loss: 0.4943 - val_accuracy: 0.7468\n",
            "Epoch 197/200\n",
            "62/62 [==============================] - 0s 2ms/step - loss: 0.4861 - accuracy: 0.7590 - val_loss: 0.4965 - val_accuracy: 0.7597\n",
            "Epoch 198/200\n",
            "62/62 [==============================] - 0s 2ms/step - loss: 0.4916 - accuracy: 0.7590 - val_loss: 0.5142 - val_accuracy: 0.7403\n",
            "Epoch 199/200\n",
            "62/62 [==============================] - 0s 2ms/step - loss: 0.4790 - accuracy: 0.7573 - val_loss: 0.5001 - val_accuracy: 0.7792\n",
            "Epoch 200/200\n",
            "62/62 [==============================] - 0s 2ms/step - loss: 0.4760 - accuracy: 0.7557 - val_loss: 0.4909 - val_accuracy: 0.7662\n"
          ]
        },
        {
          "data": {
            "text/plain": [
              "<keras.src.callbacks.History at 0x1fcc2b24640>"
            ]
          },
          "execution_count": 121,
          "metadata": {},
          "output_type": "execute_result"
        }
      ],
      "source": [
        "model.fit(X_train, y_train, validation_data=(\n",
        "    X_test, y_test), epochs=200, batch_size=10)"
      ]
    },
    {
      "cell_type": "code",
      "execution_count": 122,
      "metadata": {},
      "outputs": [
        {
          "name": "stdout",
          "output_type": "stream",
          "text": [
            "20/20 [==============================] - 0s 3ms/step - loss: 0.4661 - accuracy: 0.7834\n",
            "دقت آموزش: 78.34%\n",
            "\n",
            "5/5 [==============================] - 0s 1ms/step - loss: 0.4909 - accuracy: 0.7662\n",
            "دقت تست: 76.62%\n",
            "\n"
          ]
        }
      ],
      "source": [
        "scores = model.evaluate(X_train, y_train)\n",
        "print(\"دقت آموزش: %.2f%%\\n\" % (scores[1]*100))\n",
        "scores = model.evaluate(X_test, y_test)\n",
        "print(\"دقت تست: %.2f%%\\n\" % (scores[1]*100))"
      ]
    },
    {
      "cell_type": "code",
      "execution_count": 123,
      "metadata": {},
      "outputs": [
        {
          "name": "stdout",
          "output_type": "stream",
          "text": [
            "5/5 [==============================] - 0s 1ms/step\n"
          ]
        }
      ],
      "source": [
        "y_test_pred = model.predict(X_test)"
      ]
    },
    {
      "cell_type": "code",
      "execution_count": 124,
      "metadata": {},
      "outputs": [],
      "source": [
        "itr = 0\n",
        "ifa = 0\n",
        "for ii, i in enumerate(y_test):\n",
        "    xp = -1\n",
        "    tf = \"\"\n",
        "\n",
        "    if y_test_pred[ii] >= 0.7:\n",
        "        xp = 1\n",
        "    else:\n",
        "        xp = 0\n",
        "\n",
        "    if i == xp:\n",
        "        tf = \"\"\n",
        "        itr = itr+1\n",
        "    else:\n",
        "        tf = \"false\"\n",
        "        ifa = ifa+1"
      ]
    },
    {
      "cell_type": "code",
      "execution_count": 125,
      "metadata": {},
      "outputs": [
        {
          "name": "stdout",
          "output_type": "stream",
          "text": [
            "صحیح: 119   غلط: 35\n"
          ]
        }
      ],
      "source": [
        "print(\"صحیح:\", itr, \"  غلط:\", ifa)"
      ]
    },
    {
      "cell_type": "code",
      "execution_count": 126,
      "metadata": {},
      "outputs": [
        {
          "name": "stdout",
          "output_type": "stream",
          "text": [
            "77.27272727272727\n"
          ]
        }
      ],
      "source": [
        "z = itr+ifa\n",
        "p = (itr*100)/z\n",
        "print(p)"
      ]
    },
    {
      "cell_type": "code",
      "execution_count": 127,
      "metadata": {},
      "outputs": [
        {
          "name": "stdout",
          "output_type": "stream",
          "text": [
            "Model: \"sequential_13\"\n",
            "_________________________________________________________________\n",
            " Layer (type)                Output Shape              Param #   \n",
            "=================================================================\n",
            " dense_44 (Dense)            (None, 12)                108       \n",
            "                                                                 \n",
            " dense_45 (Dense)            (None, 8)                 104       \n",
            "                                                                 \n",
            " dense_46 (Dense)            (None, 1)                 9         \n",
            "                                                                 \n",
            "=================================================================\n",
            "Total params: 221 (884.00 Byte)\n",
            "Trainable params: 221 (884.00 Byte)\n",
            "Non-trainable params: 0 (0.00 Byte)\n",
            "_________________________________________________________________\n",
            "None\n"
          ]
        }
      ],
      "source": [
        "print(model.summary())"
      ]
    },
    {
      "cell_type": "code",
      "execution_count": 128,
      "metadata": {},
      "outputs": [
        {
          "name": "stdout",
          "output_type": "stream",
          "text": [
            "1/1 [==============================] - 0s 49ms/step\n"
          ]
        }
      ],
      "source": [
        "man = np.array([[0, 100, 100, 50, 100, 32, 0.2, 56]])\n",
        "out1 = model.predict(man)"
      ]
    },
    {
      "cell_type": "code",
      "execution_count": 129,
      "metadata": {},
      "outputs": [
        {
          "name": "stdout",
          "output_type": "stream",
          "text": [
            "[[0.03948866]]\n"
          ]
        }
      ],
      "source": [
        "print(out1)"
      ]
    },
    {
      "cell_type": "code",
      "execution_count": 130,
      "metadata": {},
      "outputs": [
        {
          "name": "stdout",
          "output_type": "stream",
          "text": [
            "Layer name: dense_44\n",
            "Layer type: Dense\n",
            "Input dimensions: (8,)\n",
            "Output dimensions: (12,)\n",
            "Number of parameters: 108\n",
            "Activation function: relu\n",
            " \n",
            "Layer name: dense_45\n",
            "Layer type: Dense\n",
            "Input dimensions: (12,)\n",
            "Output dimensions: (8,)\n",
            "Number of parameters: 104\n",
            "Activation function: relu\n",
            " \n",
            "Layer name: dense_46\n",
            "Layer type: Dense\n",
            "Input dimensions: (8,)\n",
            "Output dimensions: (1,)\n",
            "Number of parameters: 9\n",
            "Activation function: sigmoid\n",
            " \n"
          ]
        }
      ],
      "source": [
        "for layer in model.layers:\n",
        "    print(\"Layer name: \" + layer.name)\n",
        "    print(\"Layer type: \" + layer.__class__.__name__)\n",
        "    print(\"Input dimensions: {}\".format(layer.input_shape[1:]))\n",
        "    print(\"Output dimensions: {}\".format(layer.output_shape[1:]))\n",
        "    print(\"Number of parameters: {}\".format(layer.count_params()))\n",
        "    try:\n",
        "        print(\"Activation function: \" + layer.activation.__name__)\n",
        "        print(\" \")\n",
        "    except:\n",
        "        print(\" \")"
      ]
    },
    {
      "cell_type": "code",
      "execution_count": 131,
      "metadata": {},
      "outputs": [],
      "source": [
        "model.save_weights(\"model.h5\")"
      ]
    },
    {
      "cell_type": "code",
      "execution_count": 132,
      "metadata": {},
      "outputs": [],
      "source": [
        "with open('model_architecture.json', 'w') as f:\n",
        "    f.write(model.to_json())"
      ]
    },
    {
      "cell_type": "code",
      "execution_count": 133,
      "metadata": {},
      "outputs": [],
      "source": [
        "model.load_weights('model.h5')"
      ]
    }
  ],
  "metadata": {
    "colab": {
      "provenance": []
    },
    "kernelspec": {
      "display_name": "Python 3.7.6 ('base')",
      "language": "python",
      "name": "python3"
    },
    "language_info": {
      "codemirror_mode": {
        "name": "ipython",
        "version": 3
      },
      "file_extension": ".py",
      "mimetype": "text/x-python",
      "name": "python",
      "nbconvert_exporter": "python",
      "pygments_lexer": "ipython3",
      "version": "3.8.8"
    },
    "vscode": {
      "interpreter": {
        "hash": "ad2bdc8ecc057115af97d19610ffacc2b4e99fae6737bb82f5d7fb13d2f2c186"
      }
    }
  },
  "nbformat": 4,
  "nbformat_minor": 0
}
